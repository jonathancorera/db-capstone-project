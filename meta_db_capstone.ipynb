{
 "cells": [
  {
   "cell_type": "code",
   "execution_count": 1,
   "id": "cab6740d",
   "metadata": {},
   "outputs": [],
   "source": [
    "import mysql.connector as connector"
   ]
  },
  {
   "cell_type": "markdown",
   "id": "2396e589",
   "metadata": {},
   "source": [
    "<h1> Task 1 <h1>"
   ]
  },
  {
   "cell_type": "code",
   "execution_count": 21,
   "id": "74223377",
   "metadata": {},
   "outputs": [],
   "source": [
    "connection=connector.connect(user=\"lemonAdmin\",password=\"Password?\", db = \"littlelemondb\")"
   ]
  },
  {
   "cell_type": "code",
   "execution_count": 22,
   "id": "94b52168",
   "metadata": {},
   "outputs": [],
   "source": [
    "cursor = connection.cursor()"
   ]
  },
  {
   "cell_type": "markdown",
   "id": "98bfa4cf",
   "metadata": {},
   "source": [
    "<h1> Task 2 </h1>"
   ]
  },
  {
   "cell_type": "code",
   "execution_count": 23,
   "id": "8ed3d7fc",
   "metadata": {},
   "outputs": [],
   "source": [
    "show_tables_query = \"SHOW tables\" \n",
    "cursor.execute(show_tables_query)"
   ]
  },
  {
   "cell_type": "code",
   "execution_count": 25,
   "id": "f6a0481b",
   "metadata": {},
   "outputs": [
    {
     "name": "stdout",
     "output_type": "stream",
     "text": [
      "('booking',)\n",
      "('customer',)\n",
      "('deliverystatus',)\n",
      "('menu',)\n",
      "('orders',)\n",
      "('ordersview',)\n",
      "('staff',)\n"
     ]
    }
   ],
   "source": [
    "for table_name in cursor:\n",
    "   print(table_name)"
   ]
  },
  {
   "cell_type": "markdown",
   "id": "16045c38",
   "metadata": {},
   "source": [
    "<h1> Task 3 </h1>"
   ]
  },
  {
   "cell_type": "code",
   "execution_count": 26,
   "id": "9213a85f",
   "metadata": {},
   "outputs": [],
   "source": [
    "customer_query = \"\"\"SELECT customer.FullName, customer.ContactNumber FROM customer\n",
    "                    INNER JOIN orders\n",
    "                    ON customer.CustomerID = orders.Customer_CustomerID\n",
    "                    WHERE orders.TotalCost > 60\n",
    "                    \"\"\""
   ]
  },
  {
   "cell_type": "code",
   "execution_count": 27,
   "id": "50e2c20c",
   "metadata": {},
   "outputs": [],
   "source": [
    "cursor.execute(customer_query)"
   ]
  },
  {
   "cell_type": "code",
   "execution_count": 28,
   "id": "756b1d08",
   "metadata": {},
   "outputs": [],
   "source": [
    "results = cursor.fetchall()"
   ]
  },
  {
   "cell_type": "code",
   "execution_count": 29,
   "id": "a065f3d4",
   "metadata": {},
   "outputs": [
    {
     "name": "stdout",
     "output_type": "stream",
     "text": [
      "[]\n"
     ]
    }
   ],
   "source": [
    "print(results)"
   ]
  },
  {
   "cell_type": "code",
   "execution_count": null,
   "id": "6336c57e",
   "metadata": {},
   "outputs": [],
   "source": []
  }
 ],
 "metadata": {
  "kernelspec": {
   "display_name": "Python 3 (ipykernel)",
   "language": "python",
   "name": "python3"
  },
  "language_info": {
   "codemirror_mode": {
    "name": "ipython",
    "version": 3
   },
   "file_extension": ".py",
   "mimetype": "text/x-python",
   "name": "python",
   "nbconvert_exporter": "python",
   "pygments_lexer": "ipython3",
   "version": "3.9.5"
  }
 },
 "nbformat": 4,
 "nbformat_minor": 5
}
